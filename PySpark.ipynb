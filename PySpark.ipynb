{
  "nbformat": 4,
  "nbformat_minor": 0,
  "metadata": {
    "colab": {
      "provenance": [],
      "authorship_tag": "ABX9TyMpewfoAHi+v1dDUdCHmtwG",
      "include_colab_link": true
    },
    "kernelspec": {
      "name": "python3",
      "display_name": "Python 3"
    },
    "language_info": {
      "name": "python"
    }
  },
  "cells": [
    {
      "cell_type": "markdown",
      "metadata": {
        "id": "view-in-github",
        "colab_type": "text"
      },
      "source": [
        "<a href=\"https://colab.research.google.com/github/LaxminarayanVyas43/Herovired/blob/main/PySpark.ipynb\" target=\"_parent\"><img src=\"https://colab.research.google.com/assets/colab-badge.svg\" alt=\"Open In Colab\"/></a>"
      ]
    },
    {
      "cell_type": "code",
      "execution_count": 4,
      "metadata": {
        "id": "Yg6UucmLD9ZR"
      },
      "outputs": [],
      "source": [
        "# Import some Library\n",
        "from pyspark.sql import SparkSession\n",
        "from pyspark.sql.functions import col,count,avg,explode,split\n",
        "from pyspark.ml.recommendation import ALS\n",
        "from pyspark.ml.evaluation import RegressionEvaluator"
      ]
    },
    {
      "cell_type": "code",
      "source": [
        "#build the session\n",
        "spark = SparkSession.builder.appName('MovieRecommendationSystem').getOrCreate()"
      ],
      "metadata": {
        "id": "dC3Hv2Gc95I_"
      },
      "execution_count": 11,
      "outputs": []
    },
    {
      "cell_type": "markdown",
      "source": [],
      "metadata": {
        "id": "KmWhsgW2FOMx"
      }
    },
    {
      "cell_type": "code",
      "source": [
        "#load the data\n",
        "ratings=spark.read.csv('/ratings.csv',header=True,inferSchema=True)\n",
        "movies=spark.read.csv('/movies.csv',header=True,inferSchema=True)\n"
      ],
      "metadata": {
        "id": "JF3hryzA_YpJ"
      },
      "execution_count": 13,
      "outputs": []
    },
    {
      "cell_type": "code",
      "source": [
        "ratings.show(5)"
      ],
      "metadata": {
        "colab": {
          "base_uri": "https://localhost:8080/"
        },
        "id": "zhNDv0b_CsVi",
        "outputId": "02dfea07-5584-4160-f83c-67826b22b251"
      },
      "execution_count": 14,
      "outputs": [
        {
          "output_type": "stream",
          "name": "stdout",
          "text": [
            "+------+-------+------+---------+\n",
            "|userId|movieId|rating|timestamp|\n",
            "+------+-------+------+---------+\n",
            "|     1|      1|   4.0|964982703|\n",
            "|     1|      3|   4.0|964981247|\n",
            "|     1|      6|   4.0|964982224|\n",
            "|     1|     47|   5.0|964983815|\n",
            "|     1|     50|   5.0|964982931|\n",
            "+------+-------+------+---------+\n",
            "only showing top 5 rows\n",
            "\n"
          ]
        }
      ]
    },
    {
      "cell_type": "code",
      "source": [
        "movies.show(5)"
      ],
      "metadata": {
        "colab": {
          "base_uri": "https://localhost:8080/"
        },
        "id": "zfuJmk1yCsR_",
        "outputId": "267f9371-bc45-4c0b-f752-3dcf7033fb43"
      },
      "execution_count": 15,
      "outputs": [
        {
          "output_type": "stream",
          "name": "stdout",
          "text": [
            "+-------+--------------------+--------------------+\n",
            "|movieId|               title|              genres|\n",
            "+-------+--------------------+--------------------+\n",
            "|      1|    Toy Story (1995)|Adventure|Animati...|\n",
            "|      2|      Jumanji (1995)|Adventure|Childre...|\n",
            "|      3|Grumpier Old Men ...|      Comedy|Romance|\n",
            "|      4|Waiting to Exhale...|Comedy|Drama|Romance|\n",
            "|      5|Father of the Bri...|              Comedy|\n",
            "+-------+--------------------+--------------------+\n",
            "only showing top 5 rows\n",
            "\n"
          ]
        }
      ]
    },
    {
      "cell_type": "code",
      "source": [
        "#join the ratinsg and movies data set.\n",
        "ratings_with_titles= ratings.join(movies,on='movieId',how='inner')"
      ],
      "metadata": {
        "id": "HwRO5IymObB-"
      },
      "execution_count": 25,
      "outputs": []
    },
    {
      "cell_type": "code",
      "source": [
        "ratings_with_titles.show(5)"
      ],
      "metadata": {
        "colab": {
          "base_uri": "https://localhost:8080/"
        },
        "id": "ursOX5edO52O",
        "outputId": "15015127-7b0d-460e-f5c5-76cdcbc94e12"
      },
      "execution_count": 26,
      "outputs": [
        {
          "output_type": "stream",
          "name": "stdout",
          "text": [
            "+-------+------+------+---------+--------------------+--------------------+\n",
            "|movieId|userId|rating|timestamp|               title|              genres|\n",
            "+-------+------+------+---------+--------------------+--------------------+\n",
            "|      1|     1|   4.0|964982703|    Toy Story (1995)|Adventure|Animati...|\n",
            "|      3|     1|   4.0|964981247|Grumpier Old Men ...|      Comedy|Romance|\n",
            "|      6|     1|   4.0|964982224|         Heat (1995)|Action|Crime|Thri...|\n",
            "|     47|     1|   5.0|964983815|Seven (a.k.a. Se7...|    Mystery|Thriller|\n",
            "|     50|     1|   5.0|964982931|Usual Suspects, T...|Crime|Mystery|Thr...|\n",
            "+-------+------+------+---------+--------------------+--------------------+\n",
            "only showing top 5 rows\n",
            "\n"
          ]
        }
      ]
    },
    {
      "cell_type": "code",
      "source": [
        "#Top 10 rated movies\n",
        "top_movies = ratings_with_titles.groupby('title').agg(count('rating').alias('num_rating')).orderBy(col('num_rating').desc()).limit(10)"
      ],
      "metadata": {
        "id": "CZKtFaUfPOnN"
      },
      "execution_count": 38,
      "outputs": []
    },
    {
      "cell_type": "code",
      "source": [
        "top_movies.show()"
      ],
      "metadata": {
        "colab": {
          "base_uri": "https://localhost:8080/"
        },
        "id": "wEW94-SHQ03a",
        "outputId": "c8cd642f-930d-4836-e2d6-80336955c431"
      },
      "execution_count": 39,
      "outputs": [
        {
          "output_type": "stream",
          "name": "stdout",
          "text": [
            "+--------------------+----------+\n",
            "|               title|num_rating|\n",
            "+--------------------+----------+\n",
            "| Forrest Gump (1994)|       329|\n",
            "|Shawshank Redempt...|       317|\n",
            "| Pulp Fiction (1994)|       307|\n",
            "|Silence of the La...|       279|\n",
            "|  Matrix, The (1999)|       278|\n",
            "|Star Wars: Episod...|       251|\n",
            "|Jurassic Park (1993)|       238|\n",
            "|   Braveheart (1995)|       237|\n",
            "|Terminator 2: Jud...|       224|\n",
            "|Schindler's List ...|       220|\n",
            "+--------------------+----------+\n",
            "\n"
          ]
        }
      ]
    }
  ]
}